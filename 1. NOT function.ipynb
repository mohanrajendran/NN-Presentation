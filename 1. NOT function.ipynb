{
 "cells": [
  {
   "cell_type": "markdown",
   "metadata": {},
   "source": [
    "# Training a neuron to compute NOT function\n",
    "\n",
    "NOT function is also known as negation. Given a 0, it outputs 1. Given 1, it outputs 0. The following is the truth table:-\n",
    "\n",
    "| in | out |\n",
    "|-|\n",
    "| 0 | 1 |\n",
    "| 1 | 0 |\n",
    "\n",
    "We will be training a single neuron to simulate this function. The neuron uses the sigmoid activation function.\n",
    "\n",
    "$$\\sigma(z) = \\frac{1}{1+e^{-z}}$$\n",
    "\n",
    "Given a weight $w$ and $b$, the neuron calculates the output:-\n",
    "\n",
    "$$ a = \\sigma(wx+b)$$\n",
    "\n",
    "Let us start with exploring the sigmoid function."
   ]
  },
  {
   "cell_type": "code",
   "execution_count": 1,
   "metadata": {},
   "outputs": [
    {
     "data": {
      "image/png": "[encoded data removed]",
      "text/plain": [
       "<matplotlib.figure.Figure at 0x110137350>"
      ]
     },
     "metadata": {},
     "output_type": "display_data"
    }
   ],
   "source": [
    "import numpy as np\n",
    "import seaborn as sns\n",
    "import matplotlib.pyplot as plt\n",
    "\n",
    "def sigmoid(z):\n",
    "    return 1.0/(1+np.exp(-z))\n",
    "\n",
    "x = np.linspace(-10, 10, 1000)\n",
    "y = sigmoid(x)\n",
    "plt.plot(x, y)\n",
    "plt.show()"
   ]
  },
  {
   "cell_type": "markdown",
   "metadata": {},
   "source": [
    "As can be seen, the sigmoid function maps an input from a domain $(-\\infty, \\infty)$ to a range of $(0, 1)$. \n",
    "\n",
    "Let us prepare the test data for the NOT function and initialize weights.\n",
    "\n",
    "## Initialization"
   ]
  },
  {
   "cell_type": "code",
   "execution_count": 2,
   "metadata": {
    "collapsed": true
   },
   "outputs": [],
   "source": [
    "inp = [0, 1]\n",
    "outp = [1, 0]\n",
    "\n",
    "w = np.random.randn()\n",
    "b = np.random.randn()"
   ]
  },
  {
   "cell_type": "markdown",
   "metadata": {},
   "source": [
    " Let us attempt to compute the NOT function using our initial weights."
   ]
  },
  {
   "cell_type": "code",
   "execution_count": 3,
   "metadata": {},
   "outputs": [
    {
     "name": "stdout",
     "output_type": "stream",
     "text": [
      "Weight: 2.49901705764; Bias: 0.905013266214\n",
      "Input = 0; Output = 0.711978639857; Expected = 1; Error = -0.288021360143\n",
      "Input = 1; Output = 0.967830255714; Expected = 0; Error = 0.967830255714\n",
      "Cost = 0.254912926944\n"
     ]
    },
    {
     "data": {
      "image/png": "[encoded data removed]",
      "text/plain": [
       "<matplotlib.figure.Figure at 0x1102f0d50>"
      ]
     },
     "metadata": {},
     "output_type": "display_data"
    }
   ],
   "source": [
    "def print_error(w, b):\n",
    "    print \"Weight: {0}; Bias: {1}\".format(w, b)\n",
    "    \n",
    "    error = 0\n",
    "    \n",
    "    for i in range(2):\n",
    "        x = inp[i]\n",
    "        e = outp[i]\n",
    "        a = sigmoid(w*x + b)\n",
    "    \n",
    "        err = a-e\n",
    "    \n",
    "        print \"Input = {0}; Output = {1}; Expected = {2}; Error = {3}\".format(x, a, e, err)\n",
    "    \n",
    "        error += err**2/2\n",
    "    \n",
    "    error /= 2\n",
    "\n",
    "    print \"Cost = {0}\".format(error)\n",
    "    \n",
    "    nfunc=np.vectorize(lambda x: sigmoid(w*x+b))\n",
    "    plt.plot(np.linspace(0,1,100), nfunc(np.linspace(0, 1, 100)))\n",
    "    plt.show()\n",
    "    \n",
    "print_error(w, b)"
   ]
  },
  {
   "cell_type": "markdown",
   "metadata": {},
   "source": [
    "As expected, random initial values do not produce the value we need. We now use gradient descent to adjust our weights and bias.\n",
    "\n",
    "The cost is given by:-\n",
    "\n",
    "$$Cost, C = \\frac{1}{2n}\\Sigma\\lVert a-e \\rVert^2$$\n",
    "\n",
    "$$\\frac{dC}{da} = \\frac{1}{n}\\Sigma(a-e)$$\n",
    "\n",
    "The activation is given by:-\n",
    "\n",
    "$$a = \\sigma(z)$$\n",
    "\n",
    "$$\\frac{da}{dz} = a(1-a)$$\n",
    "\n",
    "The sum, z is given by:-\n",
    "\n",
    "$$z = w*x+b$$\n",
    "\n",
    "$$\\frac{\\partial z}{\\partial w} = x$$\n",
    "\n",
    "$$\\frac{\\partial z}{\\partial b} = 1$$\n",
    "\n",
    "Using the differentiation chain rule, we get the final relation:-\n",
    "\n",
    "$$\\frac{\\partial C}{\\partial w} = \\frac{1}{n}\\Sigma(a-e) * a * (1-a) * x$$\n",
    "\n",
    "$$\\frac{\\partial C}{\\partial b} = \\frac{1}{n}\\Sigma(a-e) * a * (1-a)$$\n",
    "\n",
    "The gradients can be used to adjust the weight and bias:-\n",
    "\n",
    "$$w \\rightarrow w'-\\frac{\\partial C}{\\partial w}$$\n",
    "$$b \\rightarrow b'-\\frac{\\partial C}{\\partial b}$$\n",
    "\n",
    "Let us use the formula to compute the gradients:-\n",
    "\n",
    "## Gradient descent"
   ]
  },
  {
   "cell_type": "code",
   "execution_count": 4,
   "metadata": {},
   "outputs": [
    {
     "name": "stdout",
     "output_type": "stream",
     "text": [
      "Del_w = 0.0150666258082; Del_b = -0.0144649324004\n",
      "New weight = 2.48395043183; New bias = 0.919478198614\n"
     ]
    }
   ],
   "source": [
    "def improve_parameters(w, b):\n",
    "    del_w = 0\n",
    "    del_b = 0\n",
    "    error = 0\n",
    "\n",
    "    for i in range(2):\n",
    "        x = inp[i]\n",
    "        e = outp[i]\n",
    "        a = sigmoid(w*x + b)\n",
    "    \n",
    "        del_w += (a-e) * a * (1-a) * x\n",
    "        del_b += (a-e) * a * (1-a)\n",
    "        \n",
    "        error += (a-e)**2/2\n",
    "    \n",
    "    del_w /= 2\n",
    "    del_b /= 2\n",
    "    error /= 2\n",
    "    \n",
    "    return (del_w, del_b, error)\n",
    "    \n",
    "del_w, del_b, error = improve_parameters(w, b)\n",
    "w -= del_w\n",
    "b -= del_b\n",
    "print \"Del_w = {0}; Del_b = {1}\".format(del_w, del_b)\n",
    "print \"New weight = {0}; New bias = {1}\".format(w,b)"
   ]
  },
  {
   "cell_type": "markdown",
   "metadata": {},
   "source": [
    "Let us compute the new errors:-"
   ]
  },
  {
   "cell_type": "code",
   "execution_count": 5,
   "metadata": {},
   "outputs": [
    {
     "name": "stdout",
     "output_type": "stream",
     "text": [
      "Weight: 2.48395043183; Bias: 0.919478198614\n",
      "Input = 0; Output = 0.714935773143; Expected = 1; Error = -0.285064226857\n",
      "Input = 1; Output = 0.967811516805; Expected = 0; Error = 0.967811516805\n",
      "Cost = 0.254480186373\n"
     ]
    },
    {
     "data": {
      "image/png": "[encoded data removed]",
      "text/plain": [
       "<matplotlib.figure.Figure at 0x110311d50>"
      ]
     },
     "metadata": {},
     "output_type": "display_data"
    }
   ],
   "source": [
    "print_error(w, b)"
   ]
  },
  {
   "cell_type": "markdown",
   "metadata": {},
   "source": [
    "As can be seen, the overall cost function is reducing. Let us try this 1000 more times."
   ]
  },
  {
   "cell_type": "code",
   "execution_count": 6,
   "metadata": {},
   "outputs": [
    {
     "data": {
      "image/png": "[encoded data removed]",
      "text/plain": [
       "<matplotlib.figure.Figure at 0x11031cc50>"
      ]
     },
     "metadata": {},
     "output_type": "display_data"
    }
   ],
   "source": [
    "errors = []\n",
    "\n",
    "for i in range(1000):\n",
    "    del_w, del_b, error = improve_parameters(w,b)\n",
    "    \n",
    "    w -= del_w\n",
    "    b -= del_b\n",
    "    \n",
    "    errors.append(error)\n",
    "    \n",
    "plt.plot(errors)\n",
    "plt.show()"
   ]
  },
  {
   "cell_type": "markdown",
   "metadata": {},
   "source": [
    "Let us compute the error again at this point."
   ]
  },
  {
   "cell_type": "code",
   "execution_count": 7,
   "metadata": {},
   "outputs": [
    {
     "name": "stdout",
     "output_type": "stream",
     "text": [
      "Weight: -5.58407495347; Bias: 2.68002418401\n",
      "Input = 0; Output = 0.935837575754; Expected = 1; Error = -0.0641624242463\n",
      "Input = 1; Output = 0.0519536819694; Expected = 0; Error = 0.0519536819694\n",
      "Cost = 0.00170400043884\n"
     ]
    },
    {
     "data": {
      "image/png": "[encoded data removed]",
      "text/plain": [
       "<matplotlib.figure.Figure at 0x110608790>"
      ]
     },
     "metadata": {},
     "output_type": "display_data"
    }
   ],
   "source": [
    "print_error(w, b)"
   ]
  },
  {
   "cell_type": "markdown",
   "metadata": {},
   "source": [
    "The output is getting closer to our desired value. Continuing on in this fashion would train the neuron to better simulate the NOT function.\n",
    "\n",
    "Note that we never explicitly specified the weights and bias. We simply use the errors to nudge them in the right direction. We will be seeing these again in the future."
   ]
  }
 ],
 "metadata": {
  "kernelspec": {
   "display_name": "Python 2",
   "language": "python",
   "name": "python2"
  },
  "language_info": {
   "codemirror_mode": {
    "name": "ipython",
    "version": 2
   },
   "file_extension": ".py",
   "mimetype": "text/x-python",
   "name": "python",
   "nbconvert_exporter": "python",
   "pygments_lexer": "ipython2",
   "version": "2.7.13"
  }
 },
 "nbformat": 4,
 "nbformat_minor": 2
}
