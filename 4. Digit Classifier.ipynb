{
 "cells": [
  {
   "cell_type": "markdown",
   "metadata": {},
   "source": [
    "# Training a neural network to classify MNIST digits\n",
    "\n",
    "In this section, let us train a neural network to classify the MNIST dataset\n",
    "\n",
    "Let us load the data. (Courtesy of [Michael Nielson](http://neuralnetworksanddeeplearning.com/))"
   ]
  },
  {
   "cell_type": "code",
   "execution_count": 14,
   "metadata": {},
   "outputs": [
    {
     "name": "stdout",
     "output_type": "stream",
     "text": [
      "Training set: 50000; Validation set: 10000; Test set: 10000\n"
     ]
    }
   ],
   "source": [
    "import numpy as np\n",
    "import random\n",
    "import seaborn as sns\n",
    "import matplotlib.pyplot as plt\n",
    "import mnist_loader\n",
    "\n",
    "def sigmoid(z):\n",
    "    return 1.0/(1+np.exp(-z))\n",
    "\n",
    "training_data, validation_data, test_data = mnist_loader.load_data_wrapper()\n",
    "print \"Training set: {0}; Validation set: {1}; Test set: {2}\".format(len(training_data), len(validation_data), len(test_data))"
   ]
  },
  {
   "cell_type": "markdown",
   "metadata": {},
   "source": [
    "Let us visualize a test data row."
   ]
  },
  {
   "cell_type": "code",
   "execution_count": 12,
   "metadata": {},
   "outputs": [
    {
     "data": {
      "image/png": "[encoded data removed]",
      "text/plain": [
       "<matplotlib.figure.Figure at 0x110fb3290>"
      ]
     },
     "metadata": {},
     "output_type": "display_data"
    },
    {
     "name": "stdout",
     "output_type": "stream",
     "text": [
      "Label: [[ 0.]\n",
      " [ 0.]\n",
      " [ 1.]\n",
      " [ 0.]\n",
      " [ 0.]\n",
      " [ 0.]\n",
      " [ 0.]\n",
      " [ 0.]\n",
      " [ 0.]\n",
      " [ 0.]]\n"
     ]
    }
   ],
   "source": [
    "idx = 5\n",
    "t = training_data[idx][0].reshape((28, 28))\n",
    "plt.imshow(t, cmap=\"gray\")\n",
    "plt.show()\n",
    "print \"Label: {0}\".format(training_data[idx][1])"
   ]
  },
  {
   "cell_type": "markdown",
   "metadata": {},
   "source": [
    "As can be seen, the input data is a vector of length 784 and label data is a vector of length 10. \n",
    "\n",
    "For example, a label of $[0,0,0,1,0,0,0,0,0,0]$ refers to number 3 since the 3rd index contains 1.\n",
    "\n",
    "So, it makes sense to have 784 inputs in the first layer and 10 outputs in the output layer.\n",
    "\n",
    "Let us initialize the neural network and see how it performs on the sample above."
   ]
  },
  {
   "cell_type": "code",
   "execution_count": 16,
   "metadata": {},
   "outputs": [
    {
     "name": "stdout",
     "output_type": "stream",
     "text": [
      "[[  7.77642233e-01]\n",
      " [  6.89296353e-01]\n",
      " [  1.49992457e-01]\n",
      " [  1.27164454e-03]\n",
      " [  9.99027669e-01]\n",
      " [  3.23779784e-03]\n",
      " [  4.10799380e-03]\n",
      " [  9.25943036e-01]\n",
      " [  3.19141651e-04]\n",
      " [  1.39017869e-02]] 4\n"
     ]
    }
   ],
   "source": [
    "w1 = np.random.randn(hidden_units,28*28)\n",
    "w2 = np.random.randn(10,hidden_units)\n",
    "b1 = np.random.randn(hidden_units,1)\n",
    "b2 = np.random.randn(10,1)\n",
    "\n",
    "x,y = training_data[idx]\n",
    "a0 = x\n",
    "e = y\n",
    "z1 = np.dot(w1, a0) + b1\n",
    "a1 = sigmoid(z1)\n",
    "z2 = np.dot(w2, a1) + b2\n",
    "a2 = sigmoid(z2)\n",
    "        \n",
    "print a2, np.argmax(a2)"
   ]
  },
  {
   "cell_type": "markdown",
   "metadata": {},
   "source": [
    "Let us train the model. The code is similar to XOR.\n",
    "\n",
    "We simply use stochastic gradient descent by constructing random mini batches from the training data without replacement. We quantify error now by testing the model on a separate validation data."
   ]
  },
  {
   "cell_type": "code",
   "execution_count": 20,
   "metadata": {},
   "outputs": [
    {
     "name": "stdout",
     "output_type": "stream",
     "text": [
      "Epoch 1: 9093 / 10000\n",
      "Epoch 2: 9248 / 10000\n",
      "Epoch 3: 9354 / 10000\n",
      "Epoch 4: 9428 / 10000\n",
      "Epoch 5: 9455 / 10000\n",
      "Epoch 6: 9462 / 10000\n",
      "Epoch 7: 9455 / 10000\n",
      "Epoch 8: 9513 / 10000\n",
      "Epoch 9: 9483 / 10000\n",
      "Epoch 10: 9497 / 10000\n",
      "Epoch 11: 9516 / 10000\n",
      "Epoch 12: 9538 / 10000\n",
      "Epoch 13: 9497 / 10000\n",
      "Epoch 14: 9528 / 10000\n",
      "Epoch 15: 9526 / 10000\n",
      "Epoch 16: 9521 / 10000\n",
      "Epoch 17: 9538 / 10000\n",
      "Epoch 18: 9525 / 10000\n",
      "Epoch 19: 9531 / 10000\n",
      "Epoch 20: 9534 / 10000\n"
     ]
    }
   ],
   "source": [
    "hidden_units = 30\n",
    "learning_rate = 3\n",
    "epochs = 15\n",
    "batch_size = 10\n",
    "\n",
    "for epoch in range(epochs):\n",
    "    random.shuffle(training_data)\n",
    "    n = len(training_data)\n",
    "    mini_batches = [training_data[k:k+batch_size] for k in xrange(0, n, batch_size)]\n",
    "    \n",
    "    for mini_batch in mini_batches:\n",
    "        del_w1 = np.zeros(w1.shape)\n",
    "        del_w2 = np.zeros(w2.shape)\n",
    "        del_b1 = np.zeros(b1.shape)\n",
    "        del_b2 = np.zeros(b2.shape)\n",
    "        \n",
    "        for x,y in mini_batch:\n",
    "            a0 = x\n",
    "            e = y\n",
    "            z1 = np.dot(w1, a0) + b1\n",
    "            a1 = sigmoid(z1)\n",
    "            z2 = np.dot(w2, a1) + b2\n",
    "            a2 = sigmoid(z2)\n",
    "        \n",
    "            d2 = (a2 - e) * a2 * (1-a2)\n",
    "            del_b2 += d2\n",
    "            del_w2 += np.dot(d2, a1.T) \n",
    "            d1 = np.dot(w2.T, d2) * a1 * (1-a1)\n",
    "            del_b1 += d1\n",
    "            del_w1 += np.dot(d1, a0.T)\n",
    "            \n",
    "        w1 -= (learning_rate * del_w1 / len(mini_batch))\n",
    "        b1 -= (learning_rate * del_b1 / len(mini_batch))\n",
    "        w2 -= (learning_rate * del_w2 / len(mini_batch))\n",
    "        b2 -= (learning_rate * del_b2 / len(mini_batch))\n",
    "    \n",
    "    accurate = 0\n",
    "    for x,y in validation_data:\n",
    "        a0 = x\n",
    "        e0 = y\n",
    "        z1 = np.dot(w1, a0) + b1\n",
    "        a1 = sigmoid(z1)\n",
    "        z2 = np.dot(w2, a1) + b2\n",
    "        a2 = sigmoid(z2)\n",
    "        \n",
    "        result = np.argmax(a2)\n",
    "        if result == e0:\n",
    "            accurate += 1\n",
    "    \n",
    "    print \"Epoch {0}: {1} / {2}\".format(epoch+1, accurate, len(validation_data))"
   ]
  }
 ],
 "metadata": {
  "kernelspec": {
   "display_name": "Python 2",
   "language": "python",
   "name": "python2"
  },
  "language_info": {
   "codemirror_mode": {
    "name": "ipython",
    "version": 2
   },
   "file_extension": ".py",
   "mimetype": "text/x-python",
   "name": "python",
   "nbconvert_exporter": "python",
   "pygments_lexer": "ipython2",
   "version": "2.7.13"
  }
 },
 "nbformat": 4,
 "nbformat_minor": 2
}
