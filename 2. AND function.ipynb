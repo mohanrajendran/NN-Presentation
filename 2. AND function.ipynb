{
 "cells": [
  {
   "cell_type": "markdown",
   "metadata": {},
   "source": [
    "# Training a neuron to compute AND function\n",
    "\n",
    "Let us extend the neuron created in the previous section to compute an AND function. It now takes two inputs and tries to compute the following truth table:-\n",
    "\n",
    "|inp1 | inp2 | out |\n",
    "|-|\n",
    "| 0 | 0 | 0 |\n",
    "| 0 | 1 | 0 |\n",
    "| 1 | 0 | 0 |\n",
    "| 1 | 1 | 1 |\n",
    "\n",
    "Since there are two inputs, we require two weights to compute the output:-\n",
    "\n",
    "$$ a = \\sigma(w_1x_1+w_2x_2+b)$$\n",
    "\n",
    "Extending the formula from the previous section:-\n",
    "\n",
    "$$\\frac{\\partial C}{\\partial w_1} = \\frac{1}{n}\\Sigma(a-e) * a * (1-a) * x_1$$\n",
    "\n",
    "$$\\frac{\\partial C}{\\partial w_2} = \\frac{1}{n}\\Sigma(a-e) * a * (1-a) * x_2$$\n",
    "\n",
    "$$\\frac{\\partial C}{\\partial b} = \\frac{1}{n}\\Sigma(a-e) * a * (1-a)$$\n",
    "\n",
    "Let us repeat the same process as before:-\n",
    "\n",
    "## Initialization"
   ]
  },
  {
   "cell_type": "code",
   "execution_count": 12,
   "metadata": {
    "collapsed": true
   },
   "outputs": [],
   "source": [
    "import numpy as np\n",
    "import seaborn as sns\n",
    "import matplotlib.pyplot as plt\n",
    "\n",
    "def sigmoid(z):\n",
    "    return 1.0/(1+np.exp(-z))\n",
    "\n",
    "inp = [[0, 0], [0, 1], [1, 0], [1, 1]]\n",
    "outp = [0, 0, 0, 1]\n",
    "\n",
    "w1 = np.random.randn()\n",
    "w2 = np.random.randn()\n",
    "b = np.random.randn()"
   ]
  },
  {
   "cell_type": "markdown",
   "metadata": {},
   "source": [
    "Again, let us compute the AND function using the initial parameters."
   ]
  },
  {
   "cell_type": "code",
   "execution_count": 13,
   "metadata": {},
   "outputs": [
    {
     "name": "stdout",
     "output_type": "stream",
     "text": [
      "Weight1: -0.182555918702; Weight2: 2.7159368593; Bias: -1.02242982996\n",
      "Input1 = 0; Input2 = 0; Output = 0.26455436942; Expected = 0; Error = 0.26455436942\n",
      "Input1 = 0; Input2 = 1; Output = 0.844684811777; Expected = 0; Error = 0.844684811777\n",
      "Input1 = 1; Input2 = 0; Output = 0.230589467205; Expected = 0; Error = 0.230589467205\n",
      "Input1 = 1; Input2 = 1; Output = 0.819202118621; Expected = 1; Error = -0.180797881379\n",
      "Cost = 0.217335205481\n"
     ]
    },
    {
     "data": {
      "image/png": "[encoded data removed]",
      "text/plain": [
       "<matplotlib.figure.Figure at 0x1080c66d0>"
      ]
     },
     "metadata": {},
     "output_type": "display_data"
    }
   ],
   "source": [
    "def print_error(w1, w2, b):\n",
    "    print \"Weight1: {0}; Weight2: {1}; Bias: {2}\".format(w1, w2, b)\n",
    "    \n",
    "    error = 0\n",
    "    \n",
    "    for i in range(4):\n",
    "        x1,x2 = inp[i]\n",
    "        e = outp[i]\n",
    "        a = sigmoid(w1*x1 + w2*x2 + b)\n",
    "    \n",
    "        err = a-e\n",
    "    \n",
    "        print \"Input1 = {0}; Input2 = {1}; Output = {2}; Expected = {3}; Error = {4}\".format(x1, x2, a, e, err)\n",
    "    \n",
    "        error += err**2\n",
    "    \n",
    "    error /= 4\n",
    "\n",
    "    print \"Cost = {0}\".format(error)\n",
    "    \n",
    "    x1 = np.arange(0, 1, 0.01)\n",
    "    x2 = np.arange(0, 1, 0.01)\n",
    "    X1, X2 = np.meshgrid(x1, x2)\n",
    "    Z = sigmoid(w1*X1 + w2*X2 + b)\n",
    "    im = plt.imshow(Z, cmap=plt.cm.Greys, extent=(0, 1, 1, 0))\n",
    "    cset = plt.contour(Z, np.array([0.5]), extent=(0,1,0,1))\n",
    "    plt.clabel(cset)\n",
    "    plt.show()\n",
    "    \n",
    "print_error(w1, w2, b)"
   ]
  },
  {
   "cell_type": "markdown",
   "metadata": {},
   "source": [
    "Let us perform gradient descent:-"
   ]
  },
  {
   "cell_type": "code",
   "execution_count": 14,
   "metadata": {},
   "outputs": [
    {
     "name": "stdout",
     "output_type": "stream",
     "text": [
      "Del_w1 = 0.00353318460474; Del_w2 = 0.0210095589234; Del_b = 0.0441055161219\n",
      "New weight1 = -0.186089103307; New weight2 = 2.69492730037; New bias = -1.06653534608\n",
      "Weight1: -0.186089103307; Weight2: 2.69492730037; Bias: -1.06653534608\n",
      "Input1 = 0; Input2 = 0; Output = 0.256062523724; Expected = 0; Error = 0.256062523724\n",
      "Input1 = 0; Input2 = 1; Output = 0.835949233539; Expected = 0; Error = 0.835949233539\n",
      "Input1 = 1; Input2 = 0; Output = 0.222246164717; Expected = 0; Error = 0.222246164717\n",
      "Input1 = 1; Input2 = 1; Output = 0.808811007818; Expected = 1; Error = -0.191188992182\n",
      "Cost = 0.212581431393\n"
     ]
    },
    {
     "data": {
      "image/png": "[encoded data removed]",
      "text/plain": [
       "<matplotlib.figure.Figure at 0x107ff8290>"
      ]
     },
     "metadata": {},
     "output_type": "display_data"
    }
   ],
   "source": [
    "def improve_parameters(w1, w2, b):\n",
    "    del_w1 = 0\n",
    "    del_w2 = 0\n",
    "    del_b = 0\n",
    "    error = 0\n",
    "    \n",
    "    for i in range(4):\n",
    "        x1,x2 = inp[i]\n",
    "        e = outp[i]\n",
    "        a = sigmoid(w1*x1 + w2*x2 + b)\n",
    "    \n",
    "        del_w1 += (a-e) * a * (1-a) * x1\n",
    "        del_w2 += (a-e) * a * (1-a) * x2\n",
    "        del_b += (a-e) * a * (1-a)\n",
    "        error += (a-e)**2/2\n",
    "\n",
    "    del_w1 /= 4\n",
    "    del_w2 /= 4\n",
    "    del_b /= 4\n",
    "    error /= 4\n",
    "    \n",
    "    return (del_w1, del_w2, del_b, error)\n",
    "\n",
    "del_w1, del_w2, del_b, error = improve_parameters(w1, w2, b)\n",
    "w1 -= del_w1\n",
    "w2 -= del_w2\n",
    "b -= del_b\n",
    "print \"Del_w1 = {0}; Del_w2 = {1}; Del_b = {2}\".format(del_w1, del_w2, del_b)\n",
    "print \"New weight1 = {0}; New weight2 = {1}; New bias = {2}\".format(w1, w2, b)\n",
    "\n",
    "print_error(w1, w2, b)"
   ]
  },
  {
   "cell_type": "code",
   "execution_count": 11,
   "metadata": {},
   "outputs": [
    {
     "data": {
      "image/png": "[encoded data removed]",
      "text/plain": [
       "<matplotlib.figure.Figure at 0x10739c4d0>"
      ]
     },
     "metadata": {},
     "output_type": "display_data"
    },
    {
     "name": "stdout",
     "output_type": "stream",
     "text": [
      "Weight1: 3.76433404732; Weight2: 3.76432339458; Bias: -5.7519265539\n",
      "Input1 = 0; Input2 = 0; Output = 0.00316659571876; Expected = 0; Error = 0.00316659571876\n",
      "Input1 = 0; Input2 = 1; Output = 0.120510667473; Expected = 0; Error = 0.120510667473\n",
      "Input1 = 1; Input2 = 0; Output = 0.120511796539; Expected = 0; Error = 0.120511796539\n",
      "Input1 = 1; Input2 = 1; Output = 0.855292727233; Expected = 1; Error = -0.144707272767\n",
      "Cost = 0.01249903405\n"
     ]
    },
    {
     "data": {
      "image/png": "[encoded data removed]",
      "text/plain": [
       "<matplotlib.figure.Figure at 0x107fc9f90>"
      ]
     },
     "metadata": {},
     "output_type": "display_data"
    }
   ],
   "source": [
    "errors = []\n",
    "\n",
    "for i in range(1000):\n",
    "    del_w1, del_w2, del_b, error = improve_parameters(w1, w2,b)\n",
    "    \n",
    "    w1 -= del_w1\n",
    "    w2 -= del_w2\n",
    "    b -= del_b\n",
    "    \n",
    "    errors.append(error)\n",
    "    \n",
    "plt.plot(errors)\n",
    "plt.show()\n",
    "\n",
    "print_error(w1, w2, b)"
   ]
  }
 ],
 "metadata": {
  "kernelspec": {
   "display_name": "Python 2",
   "language": "python",
   "name": "python2"
  },
  "language_info": {
   "codemirror_mode": {
    "name": "ipython",
    "version": 2
   },
   "file_extension": ".py",
   "mimetype": "text/x-python",
   "name": "python",
   "nbconvert_exporter": "python",
   "pygments_lexer": "ipython2",
   "version": "2.7.13"
  }
 },
 "nbformat": 4,
 "nbformat_minor": 2
}
