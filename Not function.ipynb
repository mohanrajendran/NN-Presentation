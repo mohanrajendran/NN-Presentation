{
 "cells": [
  {
   "cell_type": "code",
   "execution_count": 52,
   "metadata": {
    "collapsed": true
   },
   "outputs": [],
   "source": [
    "import numpy as np\n",
    "import seaborn as sns\n",
    "import matplotlib.pyplot as plt"
   ]
  },
  {
   "cell_type": "markdown",
   "metadata": {},
   "source": [
    "# Training a neuron to compute Not function\n",
    "\n",
    "Not function is also known as negation. Given a 0, it outputs 1. Given 1, it outputs 0. The following is the truth table.\n",
    "\n",
    "|in | out|\n",
    "|--------|\n",
    "|0  | 1  |\n",
    "|1  | 0  |\n",
    "\n",
    "We will be training a single neuron to simulate this function. The neuron uses the sigmoid activation function.\n",
    "\n",
    "$$\\sigma(z) = \\frac{1}{1+e^{-z}}$$\n",
    "\n",
    "Given a weight $w$ and $b$, the neuron calculates the output:-\n",
    "\n",
    "$$ a = \\sigma(wx+b)$$\n",
    "\n",
    "Let us start with exploring the sigmoid function."
   ]
  },
  {
   "cell_type": "code",
   "execution_count": 53,
   "metadata": {},
   "outputs": [
    {
     "data": {
      "image/png": "[encoded data removed]",
      "text/plain": [
       "<matplotlib.figure.Figure at 0x1092e2dd0>"
      ]
     },
     "metadata": {},
     "output_type": "display_data"
    }
   ],
   "source": [
    "def sigmoid(z):\n",
    "    return 1.0/(1+np.exp(-z))\n",
    "\n",
    "x = np.linspace(-10, 10, 1000)\n",
    "y = sigmoid(x)\n",
    "plt.plot(x, y)\n",
    "plt.show()"
   ]
  },
  {
   "cell_type": "markdown",
   "metadata": {},
   "source": [
    "As can be seen, the sigmoid function maps an input from a domain $(-\\infty, \\infty)$ to a range of $(0, 1)$. \n",
    "\n",
    "Let us prepare the test data for the NOT function and initialize weights."
   ]
  },
  {
   "cell_type": "code",
   "execution_count": 54,
   "metadata": {
    "collapsed": true
   },
   "outputs": [],
   "source": [
    "inp = [0, 1]\n",
    "outp = [1, 0]\n",
    "\n",
    "w = np.random.randn()\n",
    "b = np.random.randn()"
   ]
  },
  {
   "cell_type": "markdown",
   "metadata": {},
   "source": [
    " Let us attempt to compute the NOT function using our initial weights."
   ]
  },
  {
   "cell_type": "code",
   "execution_count": 55,
   "metadata": {},
   "outputs": [
    {
     "name": "stdout",
     "output_type": "stream",
     "text": [
      "Initial weight: 0.295524486334; Initial bias: 0.713112549953\n",
      "Input = 0; Output = 0.671088554432; Expected = 1; Error = -0.328911445568\n",
      "Input = 1; Output = 0.732753330346; Expected = 0; Error = 0.732753330346\n",
      "Cost = 0.322555091079\n"
     ]
    }
   ],
   "source": [
    "error = 0\n",
    "print \"Initial weight: {0}; Initial bias: {1}\".format(w, b)\n",
    "for i in range(2):\n",
    "    x = inp[i]\n",
    "    e = outp[i]\n",
    "    a = sigmoid(w*x + b)\n",
    "    \n",
    "    err = a-e\n",
    "    \n",
    "    print \"Input = {0}; Output = {1}; Expected = {2}; Error = {3}\".format(x, a, e, err)\n",
    "    \n",
    "    error += err**2\n",
    "    \n",
    "error /= 2\n",
    "\n",
    "print \"Cost = {0}\".format(error)\n",
    "    "
   ]
  },
  {
   "cell_type": "markdown",
   "metadata": {},
   "source": [
    "As expected, random initial values do not produce the value we need. We now use gradient descent to adjust our weights and bias.\n",
    "\n",
    "The cost is given by:-\n",
    "\n",
    "$$Cost, C = \\frac{1}{2n}\\Sigma\\lVert a-e \\rVert^2$$\n",
    "\n",
    "$$\\frac{dC}{da} = \\frac{1}{n}\\Sigma(a-e)$$\n",
    "\n",
    "The activation is given by:-\n",
    "\n",
    "$$a = \\sigma(z)$$\n",
    "\n",
    "$$\\frac{da}{dz} = a(1-a)$$\n",
    "\n",
    "The sum, z is given by:-\n",
    "\n",
    "$$z = w*x+b$$\n",
    "\n",
    "$$\\frac{\\partial z}{\\partial w} = x$$\n",
    "\n",
    "$$\\frac{\\partial z}{\\partial b} = 1$$\n",
    "\n",
    "Using the differentiation chain rule, we get the final relation:-\n",
    "\n",
    "$$\\frac{\\partial C}{\\partial w} = \\frac{1}{n}\\Sigma(a-e) * a * (1-a) * x$$\n",
    "\n",
    "$$\\frac{\\partial C}{\\partial b} = \\frac{1}{n}\\Sigma(a-e) * a * (1-a)$$\n",
    "\n",
    "The gradients can be used to adjust the weight and bias:-\n",
    "\n",
    "$$w \\rightarrow w'-\\frac{\\partial C}{\\partial w}$$\n",
    "$$b \\rightarrow b'-\\frac{\\partial C}{\\partial b}$$\n",
    "\n",
    "Let us use the formula to compute the gradients:-"
   ]
  },
  {
   "cell_type": "code",
   "execution_count": 56,
   "metadata": {},
   "outputs": [
    {
     "name": "stdout",
     "output_type": "stream",
     "text": [
      "Del_w = 0.0717460355116; Del_b = 0.0354459365379\n",
      "New weight = 0.259651468578; New bias = 0.695389581684\n"
     ]
    }
   ],
   "source": [
    "def sigmoid_prime(z):\n",
    "    return sigmoid(z)*(1-sigmoid(z))\n",
    "\n",
    "del_w = 0\n",
    "del_b = 0\n",
    "\n",
    "for i in range(2):\n",
    "    x = inp[i]\n",
    "    e = outp[i]\n",
    "    a = sigmoid(w*x + b)\n",
    "    \n",
    "    del_w += (a-e) * a * (1-a) * x\n",
    "    del_b += (a-e) * a * (1-a)\n",
    "    \n",
    "del_w /= 2\n",
    "del_b /= 2\n",
    "\n",
    "print \"Del_w = {0}; Del_b = {1}\".format(del_w, del_b)\n",
    "    \n",
    "w -= (del_w)/2\n",
    "b -= (del_b)/2\n",
    "\n",
    "print \"New weight = {0}; New bias = {1}\".format(w,b)"
   ]
  },
  {
   "cell_type": "markdown",
   "metadata": {},
   "source": [
    "Let us compute the new errors:-"
   ]
  },
  {
   "cell_type": "code",
   "execution_count": 57,
   "metadata": {},
   "outputs": [
    {
     "name": "stdout",
     "output_type": "stream",
     "text": [
      "Current weight: 0.259651468578; Current bias: 0.695389581684\n",
      "Input = 0; Output = 0.667164791653; Expected = 1; Error = -0.332835208347\n",
      "Input = 1; Output = 0.722127843038; Expected = 0; Error = 0.722127843038\n",
      "Cost = 0.316123948803\n"
     ]
    }
   ],
   "source": [
    "error = 0\n",
    "print \"Current weight: {0}; Current bias: {1}\".format(w, b)\n",
    "for i in range(2):\n",
    "    x = inp[i]\n",
    "    e = outp[i]\n",
    "    a = sigmoid(w*x + b)\n",
    "    \n",
    "    err = a-e\n",
    "    \n",
    "    print \"Input = {0}; Output = {1}; Expected = {2}; Error = {3}\".format(x, a, e, err)\n",
    "    \n",
    "    error += err**2\n",
    "    \n",
    "error /= 2\n",
    "\n",
    "print \"Cost = {0}\".format(error)\n",
    "    "
   ]
  },
  {
   "cell_type": "markdown",
   "metadata": {},
   "source": [
    "As can be seen, the overall cost function is reducing. Let us try this 1000 more times."
   ]
  },
  {
   "cell_type": "code",
   "execution_count": 58,
   "metadata": {},
   "outputs": [
    {
     "data": {
      "image/png": "[encoded data removed]",
      "text/plain": [
       "<matplotlib.figure.Figure at 0x108e55b10>"
      ]
     },
     "metadata": {},
     "output_type": "display_data"
    }
   ],
   "source": [
    "errors = []\n",
    "\n",
    "for i in range(1000):\n",
    "    del_w = 0\n",
    "    del_b = 0\n",
    "    error = 0\n",
    "\n",
    "    for i in range(2):\n",
    "        x = inp[i]\n",
    "        e = outp[i]\n",
    "        a = sigmoid(w*x + b)\n",
    "        \n",
    "        error += (a-e)**2\n",
    "        del_w += (a-e) * a * (1-a) * x\n",
    "        del_b += (a-e) * a * (1-a)\n",
    "    \n",
    "    del_w /= 2\n",
    "    del_b /= 2\n",
    "\n",
    "    w -= (del_w)/2\n",
    "    b -= (del_b)/2\n",
    "    \n",
    "    errors.append(error/2)\n",
    "    \n",
    "plt.plot(errors)\n",
    "plt.show()"
   ]
  },
  {
   "cell_type": "markdown",
   "metadata": {},
   "source": [
    "Let us compute the error again at this point."
   ]
  },
  {
   "cell_type": "code",
   "execution_count": 60,
   "metadata": {},
   "outputs": [
    {
     "name": "stdout",
     "output_type": "stream",
     "text": [
      "Current weight: -4.84359079118; Current bias: 2.30468477921\n",
      "Input = 0; Output = 0.909264287888; Expected = 1; Error = -0.0907357121121\n",
      "Input = 1; Output = 0.0731753338255; Expected = 0; Error = 0.0731753338255\n",
      "Cost = 0.00679379946648\n"
     ]
    }
   ],
   "source": [
    "error = 0\n",
    "print \"Current weight: {0}; Current bias: {1}\".format(w, b)\n",
    "for i in range(2):\n",
    "    x = inp[i]\n",
    "    e = outp[i]\n",
    "    a = sigmoid(w*x + b)\n",
    "    \n",
    "    err = a-e\n",
    "    \n",
    "    print \"Input = {0}; Output = {1}; Expected = {2}; Error = {3}\".format(x, a, e, err)\n",
    "    \n",
    "    error += err**2\n",
    "    \n",
    "error /= 2\n",
    "\n",
    "print \"Cost = {0}\".format(error)\n",
    "    "
   ]
  },
  {
   "cell_type": "markdown",
   "metadata": {},
   "source": [
    "The output is getting closer to our desired value. Continuing on in this fashion would train the neuron to better simulate the NOT function.\n",
    "\n",
    "Note that we never explicitly specified the weights and bias. We simply use the errors to nudge them in the right direction. We will be seeing these again in the future."
   ]
  }
 ],
 "metadata": {
  "kernelspec": {
   "display_name": "Python 2",
   "language": "python",
   "name": "python2"
  },
  "language_info": {
   "codemirror_mode": {
    "name": "ipython",
    "version": 2
   },
   "file_extension": ".py",
   "mimetype": "text/x-python",
   "name": "python",
   "nbconvert_exporter": "python",
   "pygments_lexer": "ipython2",
   "version": "2.7.13"
  }
 },
 "nbformat": 4,
 "nbformat_minor": 2
}
