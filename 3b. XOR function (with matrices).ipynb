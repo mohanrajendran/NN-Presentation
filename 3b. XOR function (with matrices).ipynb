{
 "cells": [
  {
   "cell_type": "markdown",
   "metadata": {},
   "source": [
    "# Computing XOR using matrix notation\n",
    "\n",
    "In the previous section, we have tried to calculate the XOR function using a hidden layer. We had 9 parameters to adjust. As neural networks grow more complex, we need to look for ways to simplify things:-\n",
    "\n",
    "We can take input as a vector:-\n",
    "\n",
    "$$X=\n",
    "\\begin{bmatrix}\n",
    "  x_1 \\\\ x_2 \n",
    " \\end{bmatrix}$$\n",
    " \n",
    "First layer weights:-\n",
    "\n",
    "$$W^1=\n",
    "\\begin{bmatrix}\n",
    "w^1_{11} & w^1_{12} \\\\\n",
    "w^1_{21} & w^1_{22}\n",
    "\\end{bmatrix}$$\n",
    "\n",
    "First layer biases:-\n",
    "\n",
    "$$b^1=\n",
    "\\begin{bmatrix}\n",
    "b^1_1 \\\\ b^1_2\n",
    "\\end{bmatrix}$$\n",
    "\n",
    "Hidden layer summation:-\n",
    "\n",
    "$$z^1 = W^1 X + b^1$$\n",
    "\n",
    "Hidden layer output:-\n",
    "\n",
    "$$a^1=\\sigma(W^1 X + b^1)$$\n",
    "\n",
    "Likewise, we have for output layer:-\n",
    "\n",
    "$$a=\\sigma(W^2 a^1 + b^2)$$\n",
    "\n",
    "Now, we calculate the gradients again. Only the final formalae are given. You can work out the numbers manually from the non-matrix segment to obtain these formulae. \n",
    "\n",
    "$\\odot$ refers to element-wise multiplication, $I$ a unit matrix(a matrix with all 1s) and $T$ refers to matrix transpose.\n",
    "\n",
    "$$\\frac{\\partial C}{\\partial b_2} = (a-e) \\odot a \\odot (I-a)$$\n",
    "\n",
    "$$\\frac{\\partial C}{\\partial W_2} = [(a-e) \\odot a \\odot (I-a)] . (a^1)^T$$\n",
    "\n",
    "$$\\frac{\\partial C}{\\partial b_1} = (W^2 . \\frac{\\partial C}{\\partial b_2}) \\odot a^1 \\odot (1-a^1)$$\n",
    "\n",
    "$$\\frac{\\partial C}{\\partial W_1} = [(W^2 . \\frac{\\partial C}{\\partial b_2}) \\odot a^1 \\odot (1-a^1)] . X^T$$\n",
    "\n",
    "Let us implement it in code:-"
   ]
  },
  {
   "cell_type": "code",
   "execution_count": 12,
   "metadata": {},
   "outputs": [
    {
     "data": {
      "image/png": "[encoded data removed]",
      "text/plain": [
       "<matplotlib.figure.Figure at 0x10b66f090>"
      ]
     },
     "metadata": {},
     "output_type": "display_data"
    },
    {
     "name": "stdout",
     "output_type": "stream",
     "text": [
      "[[0]\n",
      " [0]] [[ 0.01947409]]\n",
      "[[0]\n",
      " [1]] [[ 0.98318066]]\n",
      "[[1]\n",
      " [0]] [[ 0.98319088]]\n",
      "[[1]\n",
      " [1]] [[ 0.01741295]]\n"
     ]
    }
   ],
   "source": [
    "import numpy as np\n",
    "import seaborn as sns\n",
    "import matplotlib.pyplot as plt\n",
    "\n",
    "def sigmoid(z):\n",
    "    return 1.0/(1+np.exp(-z))\n",
    "\n",
    "errors = []\n",
    "w1 = np.random.rand(2,2)\n",
    "w2 = np.random.rand(1,2)\n",
    "b1 = np.random.rand(2,1)\n",
    "b2 = np.random.rand(1,1)\n",
    "\n",
    "inpList = [[0,0], [0,1], [1,0], [1,1]]\n",
    "outpList = [[0], [1], [1], [0]]\n",
    "\n",
    "error = 1000\n",
    "\n",
    "for i in range(5000):\n",
    "    error = 0\n",
    "    del_w1 = np.zeros(w1.shape)\n",
    "    del_w2 = np.zeros(w2.shape)\n",
    "    del_b1 = np.zeros(b1.shape)\n",
    "    del_b2 = np.zeros(b2.shape)\n",
    "    \n",
    "    for i in range(4):\n",
    "        a0 = np.array([inpList[i]]).T\n",
    "        e = np.array([outpList[i]])\n",
    "        z1 = np.dot(w1, a0) + b1\n",
    "        a1 = sigmoid(z1)\n",
    "        z2 = np.dot(w2, a1) + b2\n",
    "        a2 = sigmoid(z2)\n",
    "        error += (0.5 * np.linalg.norm(a2-e))\n",
    "        \n",
    "        d2 = (a2 - e) * a2 * (1-a2)\n",
    "        del_b2 += d2\n",
    "        del_w2 += np.dot(d2, a1.T) \n",
    "        d1 = np.dot(w2.T, d2) * a1 * (1-a1)\n",
    "        del_b1 += d1\n",
    "        del_w1 += np.dot(d1, a0.T)\n",
    "    \n",
    "    error /= 4.0\n",
    "    errors.append(error)\n",
    "    w1 -= del_w1\n",
    "    b1 -= del_b1\n",
    "    w2 -= del_w2\n",
    "    b2 -= del_b2\n",
    "    \n",
    "plt.plot(errors)\n",
    "plt.show()\n",
    "for i in range(4):\n",
    "    a0 = np.array([inpList[i]]).T\n",
    "    z1 = np.dot(w1, a0) + b1\n",
    "    a1 = sigmoid(z1)\n",
    "    z2 = np.dot(w2, a1) + b2\n",
    "    a2 = sigmoid(z2)\n",
    "    print a0, a2"
   ]
  },
  {
   "cell_type": "markdown",
   "metadata": {},
   "source": [
    "We pretty much get the same results with a more compact code. Note the use of backpropogation where we use the gradients in the forward layer to compute the gradients in the layer behind it."
   ]
  }
 ],
 "metadata": {
  "kernelspec": {
   "display_name": "Python 2",
   "language": "python",
   "name": "python2"
  },
  "language_info": {
   "codemirror_mode": {
    "name": "ipython",
    "version": 2
   },
   "file_extension": ".py",
   "mimetype": "text/x-python",
   "name": "python",
   "nbconvert_exporter": "python",
   "pygments_lexer": "ipython2",
   "version": "2.7.13"
  }
 },
 "nbformat": 4,
 "nbformat_minor": 2
}
